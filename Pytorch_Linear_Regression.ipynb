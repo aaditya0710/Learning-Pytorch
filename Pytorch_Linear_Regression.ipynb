{
  "nbformat": 4,
  "nbformat_minor": 0,
  "metadata": {
    "colab": {
      "name": "Pytorch-Linear-Regression.ipynb",
      "provenance": [],
      "collapsed_sections": []
    },
    "kernelspec": {
      "name": "python3",
      "display_name": "Python 3"
    },
    "accelerator": "TPU"
  },
  "cells": [
    {
      "cell_type": "code",
      "metadata": {
        "id": "OAR8UcBH6OQl",
        "colab_type": "code",
        "colab": {}
      },
      "source": [
        "import torch\n",
        "import torch.nn as nn\n",
        "import numpy as np\n",
        "from sklearn import datasets\n",
        "import matplotlib.pyplot as plt"
      ],
      "execution_count": 14,
      "outputs": []
    },
    {
      "cell_type": "code",
      "metadata": {
        "id": "0wCIbiJp9dk4",
        "colab_type": "code",
        "colab": {}
      },
      "source": [
        "xnp,ynp = datasets.make_regression(n_samples=100,n_features=1,noise = 20,random_state=1)\n",
        "X = torch.from_numpy(xnp.astype(np.float32))\n",
        "y = torch.from_numpy(ynp.astype(np.float32))"
      ],
      "execution_count": 23,
      "outputs": []
    },
    {
      "cell_type": "code",
      "metadata": {
        "id": "JV6l9xD9-okq",
        "colab_type": "code",
        "colab": {}
      },
      "source": [
        "y = y.view(y.shape[0],1)"
      ],
      "execution_count": 24,
      "outputs": []
    },
    {
      "cell_type": "code",
      "metadata": {
        "id": "a44soDWv-pYT",
        "colab_type": "code",
        "colab": {}
      },
      "source": [
        "n_samples,n_features = X.shape"
      ],
      "execution_count": 25,
      "outputs": []
    },
    {
      "cell_type": "code",
      "metadata": {
        "id": "-azuU6fL-vYZ",
        "colab_type": "code",
        "colab": {}
      },
      "source": [
        "input_size = n_features\n",
        "output_size = 1\n",
        "model = nn.Linear(input_size,output_size)"
      ],
      "execution_count": 26,
      "outputs": []
    },
    {
      "cell_type": "code",
      "metadata": {
        "id": "8FC3TTgA-_HP",
        "colab_type": "code",
        "colab": {
          "base_uri": "https://localhost:8080/",
          "height": 432
        },
        "outputId": "bf5638b9-9bc1-4058-a23d-3901af6a40fb"
      },
      "source": [
        "criterion = nn.MSELoss()\n",
        "optimizer = torch.optim.SGD(model.parameters(),lr=0.01)\n",
        "\n",
        "num_epochs = 100\n",
        "for epoch in range(num_epochs):\n",
        "  y_predicted = model(X)\n",
        "  loss = criterion(y_predicted,y)\n",
        "\n",
        "  loss.backward()\n",
        "\n",
        "  optimizer.step()\n",
        "\n",
        "  optimizer.zero_grad()\n",
        "\n",
        "  if (epoch+1)%10==0:\n",
        "    print(f\"epoch:{epoch+1},loss={loss.item():.4f}\")\n",
        "\n",
        "predicted = model(X).detach().numpy()\n",
        "plt.plot(xnp,ynp,'ro')\n",
        "plt.plot(xnp,predicted,'b')\n",
        "plt.show()"
      ],
      "execution_count": 28,
      "outputs": [
        {
          "output_type": "stream",
          "text": [
            "epoch:10,loss=497.7566\n",
            "epoch:20,loss=453.0945\n",
            "epoch:30,loss=420.5425\n",
            "epoch:40,loss=396.8055\n",
            "epoch:50,loss=379.4886\n",
            "epoch:60,loss=366.8502\n",
            "epoch:70,loss=357.6230\n",
            "epoch:80,loss=350.8837\n",
            "epoch:90,loss=345.9603\n",
            "epoch:100,loss=342.3623\n"
          ],
          "name": "stdout"
        },
        {
          "output_type": "display_data",
          "data": {
            "image/png": "[encoded data removed]",
            "text/plain": [
              "<Figure size 432x288 with 1 Axes>"
            ]
          },
          "metadata": {
            "tags": [],
            "needs_background": "light"
          }
        }
      ]
    },
    {
      "cell_type": "code",
      "metadata": {
        "id": "nzbmiuOoBwwd",
        "colab_type": "code",
        "colab": {}
      },
      "source": [
        ""
      ],
      "execution_count": null,
      "outputs": []
    }
  ]
}