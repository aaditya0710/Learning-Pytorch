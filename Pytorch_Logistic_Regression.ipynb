{
  "nbformat": 4,
  "nbformat_minor": 0,
  "metadata": {
    "colab": {
      "name": "Pytorch-Logistic-Regression.ipynb",
      "provenance": [],
      "collapsed_sections": []
    },
    "kernelspec": {
      "name": "python3",
      "display_name": "Python 3"
    },
    "accelerator": "TPU"
  },
  "cells": [
    {
      "cell_type": "code",
      "metadata": {
        "id": "OAR8UcBH6OQl",
        "colab_type": "code",
        "colab": {}
      },
      "source": [
        "import torch\n",
        "import torch.nn as nn\n",
        "import numpy as np\n",
        "from sklearn import datasets\n",
        "from sklearn.preprocessing import StandardScaler\n",
        "from sklearn.model_selection import train_test_split\n",
        "import matplotlib.pyplot as plt"
      ],
      "execution_count": 1,
      "outputs": []
    },
    {
      "cell_type": "code",
      "metadata": {
        "id": "nzbmiuOoBwwd",
        "colab_type": "code",
        "colab": {}
      },
      "source": [
        "df = datasets.load_breast_cancer()\n",
        "x,y = df.data,df.target"
      ],
      "execution_count": 2,
      "outputs": []
    },
    {
      "cell_type": "code",
      "metadata": {
        "id": "ky76iEwaDqKq",
        "colab_type": "code",
        "colab": {}
      },
      "source": [
        "n_samples,n_features = x.shape"
      ],
      "execution_count": 3,
      "outputs": []
    },
    {
      "cell_type": "code",
      "metadata": {
        "id": "Zl_8uoBBDvu_",
        "colab_type": "code",
        "colab": {}
      },
      "source": [
        "xtrain,xtest,ytrain,ytest = train_test_split(x,y,test_size=0.2,random_state=1234)"
      ],
      "execution_count": 4,
      "outputs": []
    },
    {
      "cell_type": "code",
      "metadata": {
        "id": "jxitkf6vD5J8",
        "colab_type": "code",
        "colab": {}
      },
      "source": [
        "sc = StandardScaler()\n",
        "xtrain = sc.fit_transform(xtrain)\n",
        "xtest = sc.transform(xtest)"
      ],
      "execution_count": 5,
      "outputs": []
    },
    {
      "cell_type": "code",
      "metadata": {
        "id": "bK11xTiWEERk",
        "colab_type": "code",
        "colab": {}
      },
      "source": [
        "xtrain = torch.from_numpy(xtrain.astype(np.float32))\n",
        "xtest = torch.from_numpy(xtest.astype(np.float32))\n",
        "ytrain = torch.from_numpy(ytrain.astype(np.float32))\n",
        "ytest = torch.from_numpy(ytest.astype(np.float32))"
      ],
      "execution_count": 6,
      "outputs": []
    },
    {
      "cell_type": "code",
      "metadata": {
        "id": "l2cXAb6jEYZ_",
        "colab_type": "code",
        "colab": {}
      },
      "source": [
        "ytrain = ytrain.view(ytrain.shape[0],1)\n",
        "ytest = ytest.view(ytest.shape[0],1)"
      ],
      "execution_count": 7,
      "outputs": []
    },
    {
      "cell_type": "code",
      "metadata": {
        "id": "27CYdRHUEtOR",
        "colab_type": "code",
        "colab": {
          "base_uri": "https://localhost:8080/",
          "height": 253
        },
        "outputId": "aa39532d-e2f2-438d-fc74-790733fa0ed8"
      },
      "source": [
        "class LogisticRegression(nn.Module):\n",
        "\n",
        "  def __init__(self,n_input_features):\n",
        "    super(LogisticRegression,self).__init__()\n",
        "    self.linear = nn.Linear(n_input_features,1)\n",
        "\n",
        "  def forward(self,x):\n",
        "    predictions = torch.sigmoid(self.linear(x))\n",
        "    return predictions\n",
        "\n",
        "model = LogisticRegression(n_features)\n",
        "\n",
        "criterion = nn.BCELoss()\n",
        "optimizer = torch.optim.SGD(model.parameters(),lr=0.01)\n",
        "\n",
        "num_epochs = 100\n",
        "\n",
        "for epoch in range(num_epochs):\n",
        "  y_pred = model(xtrain)\n",
        "  loss = criterion(y_pred,ytrain)\n",
        "  loss.backward()\n",
        "  optimizer.step()\n",
        "  optimizer.zero_grad()\n",
        "  if (epoch+1)%10==0:\n",
        "    print(\"epoch\",epoch+1,\"loss\",{loss.item()})\n",
        "\n",
        "with torch.no_grad():\n",
        "  y_predicted = model(xtest)\n",
        "  y_predicted_cls = y_predicted.round()\n",
        "  acc = y_predicted_cls.eq(ytest).sum()/ytest.shape[0]\n",
        "  print(acc)"
      ],
      "execution_count": 14,
      "outputs": [
        {
          "output_type": "stream",
          "text": [
            "epoch 10 loss {0.8010833859443665}\n",
            "epoch 20 loss {0.586441695690155}\n",
            "epoch 30 loss {0.4697323441505432}\n",
            "epoch 40 loss {0.39995917677879333}\n",
            "epoch 50 loss {0.35365861654281616}\n",
            "epoch 60 loss {0.32047590613365173}\n",
            "epoch 70 loss {0.295340895652771}\n",
            "epoch 80 loss {0.2755068242549896}\n",
            "epoch 90 loss {0.2593604028224945}\n",
            "epoch 100 loss {0.24589145183563232}\n",
            "tensor(61)\n"
          ],
          "name": "stdout"
        },
        {
          "output_type": "stream",
          "text": [
            "/usr/local/lib/python3.6/dist-packages/torch/nn/modules/loss.py:516: UserWarning: Using a target size (torch.Size([455])) that is different to the input size (torch.Size([455, 1])) is deprecated. Please ensure they have the same size.\n",
            "  return F.binary_cross_entropy(input, target, weight=self.weight, reduction=self.reduction)\n"
          ],
          "name": "stderr"
        }
      ]
    },
    {
      "cell_type": "code",
      "metadata": {
        "id": "wlOaCfJmO254",
        "colab_type": "code",
        "colab": {}
      },
      "source": [
        ""
      ],
      "execution_count": null,
      "outputs": []
    }
  ]
}